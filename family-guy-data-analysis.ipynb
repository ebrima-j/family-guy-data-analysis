{
 "cells": [
  {
   "cell_type": "code",
   "execution_count": null,
   "metadata": {
    "execution": {
     "iopub.execute_input": "2024-08-29T19:16:56.982888Z",
     "iopub.status.busy": "2024-08-29T19:16:56.982367Z",
     "iopub.status.idle": "2024-08-29T19:16:56.990741Z",
     "shell.execute_reply": "2024-08-29T19:16:56.988869Z",
     "shell.execute_reply.started": "2024-08-29T19:16:56.982843Z"
    }
   },
   "outputs": [],
   "source": [
    "import pandas as pd\n",
    "import numpy as np\n",
    "import matplotlib.pyplot as plt\n",
    "from sklearn.linear_model import LinearRegression"
   ]
  },
  {
   "cell_type": "code",
   "execution_count": null,
   "metadata": {
    "execution": {
     "iopub.execute_input": "2024-08-29T19:16:56.994468Z",
     "iopub.status.busy": "2024-08-29T19:16:56.993900Z",
     "iopub.status.idle": "2024-08-29T19:16:57.045343Z",
     "shell.execute_reply": "2024-08-29T19:16:57.043407Z",
     "shell.execute_reply.started": "2024-08-29T19:16:56.994423Z"
    }
   },
   "outputs": [],
   "source": [
    "#Load Family Guy Dataset\n",
    "df = pd.read_csv('Family Guy Dataset.csv')\n",
    "#print(df.describe())"
   ]
  },
  {
   "cell_type": "code",
   "execution_count": null,
   "metadata": {
    "execution": {
     "iopub.execute_input": "2024-08-29T19:16:57.048007Z",
     "iopub.status.busy": "2024-08-29T19:16:57.047414Z",
     "iopub.status.idle": "2024-08-29T19:16:57.064430Z",
     "shell.execute_reply": "2024-08-29T19:16:57.062361Z",
     "shell.execute_reply.started": "2024-08-29T19:16:57.047931Z"
    }
   },
   "outputs": [],
   "source": [
    "#Frequency of directors \n",
    "directors = df.groupby('Director').size().reset_index(name='# of Episodes Directed')\n",
    "print(directors)"
   ]
  },
  {
   "cell_type": "code",
   "execution_count": null,
   "metadata": {
    "execution": {
     "iopub.execute_input": "2024-08-29T19:16:57.070028Z",
     "iopub.status.busy": "2024-08-29T19:16:57.069418Z",
     "iopub.status.idle": "2024-08-29T19:16:57.085035Z",
     "shell.execute_reply": "2024-08-29T19:16:57.082707Z",
     "shell.execute_reply.started": "2024-08-29T19:16:57.069964Z"
    }
   },
   "outputs": [],
   "source": [
    "#Number of seasons and their # episode\n",
    "seasons = df.groupby('Season').size().reset_index(name='Episodes')\n",
    "print(seasons)"
   ]
  },
  {
   "cell_type": "code",
   "execution_count": null,
   "metadata": {
    "execution": {
     "iopub.execute_input": "2024-08-29T19:16:57.087470Z",
     "iopub.status.busy": "2024-08-29T19:16:57.086916Z",
     "iopub.status.idle": "2024-08-29T19:16:57.525811Z",
     "shell.execute_reply": "2024-08-29T19:16:57.523859Z",
     "shell.execute_reply.started": "2024-08-29T19:16:57.087427Z"
    }
   },
   "outputs": [],
   "source": [
    "#Distribution of IMDb ratings for all 400 episodes\n",
    "rating = df['IMDb Rating']\n",
    "\n",
    "plt.hist(rating, color='lightblue', ec='black')\n",
    "plt.xlabel('IMDb Rating')\n",
    "plt.ylabel('Frequency')\n",
    "plt.show()"
   ]
  },
  {
   "cell_type": "code",
   "execution_count": null,
   "metadata": {
    "execution": {
     "iopub.execute_input": "2024-08-29T19:16:57.528093Z",
     "iopub.status.busy": "2024-08-29T19:16:57.527486Z",
     "iopub.status.idle": "2024-08-29T19:16:57.915686Z",
     "shell.execute_reply": "2024-08-29T19:16:57.914184Z",
     "shell.execute_reply.started": "2024-08-29T19:16:57.528041Z"
    }
   },
   "outputs": [],
   "source": [
    "#Distribution of U.S. Viewers (Millions) over 400 episodes\n",
    "viewers = df['U.S. Viewers (Millions)']\n",
    "\n",
    "plt.hist(viewers, color='lightblue', ec='black')\n",
    "plt.xlabel('U.S. Viewers (Millions)')\n",
    "plt.ylabel('Frequency')\n",
    "plt.show()"
   ]
  },
  {
   "cell_type": "code",
   "execution_count": null,
   "metadata": {
    "execution": {
     "iopub.execute_input": "2024-08-29T19:16:57.918934Z",
     "iopub.status.busy": "2024-08-29T19:16:57.918352Z",
     "iopub.status.idle": "2024-08-29T19:16:58.291932Z",
     "shell.execute_reply": "2024-08-29T19:16:58.290386Z",
     "shell.execute_reply.started": "2024-08-29T19:16:57.918873Z"
    }
   },
   "outputs": [],
   "source": [
    "#Distribution of Running Time over 400 episodes\n",
    "run_time = df['Running Time (Minutes)']\n",
    "\n",
    "plt.hist(run_time, color='lightblue', ec='black')\n",
    "plt.xlabel('Running Time (Minutes)')\n",
    "plt.ylabel('Frequency')\n",
    "plt.show()"
   ]
  },
  {
   "cell_type": "code",
   "execution_count": null,
   "metadata": {
    "execution": {
     "iopub.execute_input": "2024-08-29T19:16:58.294250Z",
     "iopub.status.busy": "2024-08-29T19:16:58.293817Z",
     "iopub.status.idle": "2024-08-29T19:16:58.673814Z",
     "shell.execute_reply": "2024-08-29T19:16:58.672247Z",
     "shell.execute_reply.started": "2024-08-29T19:16:58.294210Z"
    }
   },
   "outputs": [],
   "source": [
    "# Relationship between # of viewers and rating ?\n",
    "# What kind of patterns would a machine learning model be able to find here ?\n",
    "plt.scatter(rating, viewers)\n",
    "plt.ylabel('U.S. Viewers (Millions)')\n",
    "plt.xlabel('IMDb Rating')\n",
    "plt.show()"
   ]
  },
  {
   "cell_type": "code",
   "execution_count": null,
   "metadata": {
    "execution": {
     "iopub.execute_input": "2024-08-29T19:16:58.676122Z",
     "iopub.status.busy": "2024-08-29T19:16:58.675624Z",
     "iopub.status.idle": "2024-08-29T19:16:59.058211Z",
     "shell.execute_reply": "2024-08-29T19:16:59.056448Z",
     "shell.execute_reply.started": "2024-08-29T19:16:58.676080Z"
    }
   },
   "outputs": [],
   "source": [
    "#Linear Regression Model btw IMDb rating & viewership\n",
    "lr = LinearRegression()\n",
    "\n",
    "copy_df = df.copy(deep=True)\n",
    "copy_df = copy_df.dropna()\n",
    "\n",
    "X = copy_df[['IMDb Rating']]\n",
    "y = copy_df[['U.S. Viewers (Millions)']]\n",
    "\n",
    "lr.fit(X, y)\n",
    "\n",
    "y_predicted = lr.predict(X)\n",
    "\n",
    "plt.scatter(X, y)\n",
    "plt.plot(X, y_predicted)\n",
    "plt.show()"
   ]
  },
  {
   "cell_type": "code",
   "execution_count": null,
   "metadata": {
    "execution": {
     "iopub.execute_input": "2024-08-29T19:16:59.063295Z",
     "iopub.status.busy": "2024-08-29T19:16:59.062688Z",
     "iopub.status.idle": "2024-08-29T19:16:59.491079Z",
     "shell.execute_reply": "2024-08-29T19:16:59.489247Z",
     "shell.execute_reply.started": "2024-08-29T19:16:59.063249Z"
    }
   },
   "outputs": [],
   "source": [
    "#Relationship between No. of Episode (Overall) and viewers ?\n",
    "plt.plot(df['No. of Episode (Overall)'], viewers)\n",
    "plt.xlabel('No. of Episode (Overall)')\n",
    "plt.ylabel('U.S. Viewers (Millions)')\n",
    "plt.show()"
   ]
  },
  {
   "cell_type": "code",
   "execution_count": null,
   "metadata": {
    "execution": {
     "iopub.execute_input": "2024-08-29T19:16:59.493306Z",
     "iopub.status.busy": "2024-08-29T19:16:59.492802Z",
     "iopub.status.idle": "2024-08-29T19:16:59.899020Z",
     "shell.execute_reply": "2024-08-29T19:16:59.897338Z",
     "shell.execute_reply.started": "2024-08-29T19:16:59.493261Z"
    }
   },
   "outputs": [],
   "source": [
    "#Relationship between run time and viewers ?\n",
    "plt.scatter(run_time, viewers)\n",
    "plt.xlabel('Running Time (Minutes)')\n",
    "plt.ylabel('U.S. Viewers (Millions)')\n",
    "plt.show()"
   ]
  },
  {
   "cell_type": "code",
   "execution_count": null,
   "metadata": {
    "execution": {
     "iopub.execute_input": "2024-08-29T19:16:59.901744Z",
     "iopub.status.busy": "2024-08-29T19:16:59.901203Z",
     "iopub.status.idle": "2024-08-29T19:17:00.486499Z",
     "shell.execute_reply": "2024-08-29T19:17:00.484786Z",
     "shell.execute_reply.started": "2024-08-29T19:16:59.901688Z"
    }
   },
   "outputs": [],
   "source": [
    "# Mean of 'U.S. Viewers (Millions)' per season\n",
    "viewers_per_season = df.groupby('Season')['U.S. Viewers (Millions)'].mean().reset_index(name='Average U.S. Viewers (Millions)')\n",
    "#print(viewers_per_season)\n",
    "\n",
    "plt.plot(viewers_per_season['Season'], viewers_per_season['Average U.S. Viewers (Millions)'])\n",
    "plt.xlabel('Season')\n",
    "plt.ylabel('Average U.S. Viewers (Millions)')\n",
    "plt.xticks(viewers_per_season['Season'])\n",
    "plt.show()"
   ]
  },
  {
   "cell_type": "code",
   "execution_count": null,
   "metadata": {
    "execution": {
     "iopub.execute_input": "2024-08-29T19:17:00.490053Z",
     "iopub.status.busy": "2024-08-29T19:17:00.488748Z",
     "iopub.status.idle": "2024-08-29T19:17:01.054395Z",
     "shell.execute_reply": "2024-08-29T19:17:01.052570Z",
     "shell.execute_reply.started": "2024-08-29T19:17:00.489855Z"
    },
    "scrolled": true
   },
   "outputs": [],
   "source": [
    "# Mean of IMDb ratings per season\n",
    "ratings_per_season = df.groupby('Season')['IMDb Rating'].mean().reset_index(name='Average IMDb Rating')\n",
    "#print(viewers_per_season)\n",
    "\n",
    "plt.plot(ratings_per_season['Season'], ratings_per_season['Average IMDb Rating'])\n",
    "plt.xlabel('Season')\n",
    "plt.ylabel('Average IMDb Rating')\n",
    "plt.xticks(ratings_per_season['Season'])\n",
    "plt.show()"
   ]
  }
 ],
 "metadata": {
  "kaggle": {
   "accelerator": "none",
   "dataSources": [
    {
     "datasetId": 2873755,
     "sourceId": 8504926,
     "sourceType": "datasetVersion"
    }
   ],
   "dockerImageVersionId": 30761,
   "isGpuEnabled": false,
   "isInternetEnabled": false,
   "language": "python",
   "sourceType": "notebook"
  },
  "kernelspec": {
   "display_name": "Python 3 (ipykernel)",
   "language": "python",
   "name": "python3"
  },
  "language_info": {
   "codemirror_mode": {
    "name": "ipython",
    "version": 3
   },
   "file_extension": ".py",
   "mimetype": "text/x-python",
   "name": "python",
   "nbconvert_exporter": "python",
   "pygments_lexer": "ipython3",
   "version": "3.12.0"
  }
 },
 "nbformat": 4,
 "nbformat_minor": 4
}
